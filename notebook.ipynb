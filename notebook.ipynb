{
 "cells": [
  {
   "cell_type": "markdown",
   "id": "94764601",
   "metadata": {},
   "source": [
    "# Explore Laptop Repair Data"
   ]
  },
  {
   "cell_type": "code",
   "execution_count": 47,
   "id": "76c32d05",
   "metadata": {},
   "outputs": [],
   "source": [
    "import pandas as pd"
   ]
  },
  {
   "cell_type": "code",
   "execution_count": 48,
   "id": "bd3358ce",
   "metadata": {},
   "outputs": [],
   "source": [
    "laptops = pd.read_csv('laptops.csv')"
   ]
  },
  {
   "cell_type": "markdown",
   "id": "dbe1e6d5",
   "metadata": {},
   "source": [
    "\n",
    "\n",
    "Display the first five lines of the `laptops` DataFrame."
   ]
  },
  {
   "cell_type": "code",
   "execution_count": 49,
   "id": "fdf2a3db",
   "metadata": {},
   "outputs": [
    {
     "data": {
      "text/html": [
       "<div>\n",
       "<style scoped>\n",
       "    .dataframe tbody tr th:only-of-type {\n",
       "        vertical-align: middle;\n",
       "    }\n",
       "\n",
       "    .dataframe tbody tr th {\n",
       "        vertical-align: top;\n",
       "    }\n",
       "\n",
       "    .dataframe thead th {\n",
       "        text-align: right;\n",
       "    }\n",
       "</style>\n",
       "<table border=\"1\" class=\"dataframe\">\n",
       "  <thead>\n",
       "    <tr style=\"text-align: right;\">\n",
       "      <th></th>\n",
       "      <th>Fault type</th>\n",
       "      <th>Fixed</th>\n",
       "      <th>Repairable</th>\n",
       "      <th>End of life</th>\n",
       "      <th>Unknown</th>\n",
       "      <th>Repair attempts</th>\n",
       "      <th>value_counts</th>\n",
       "      <th>Product Age</th>\n",
       "      <th>Count</th>\n",
       "      <th>event_year</th>\n",
       "      <th>Unnamed: 10</th>\n",
       "      <th>Unnamed: 11</th>\n",
       "    </tr>\n",
       "  </thead>\n",
       "  <tbody>\n",
       "    <tr>\n",
       "      <th>0</th>\n",
       "      <td>Performance</td>\n",
       "      <td>66%</td>\n",
       "      <td>28%</td>\n",
       "      <td>5%</td>\n",
       "      <td>2%</td>\n",
       "      <td>398</td>\n",
       "      <td>15.70%</td>\n",
       "      <td>0</td>\n",
       "      <td>15</td>\n",
       "      <td>2024</td>\n",
       "      <td>NaN</td>\n",
       "      <td>NaN</td>\n",
       "    </tr>\n",
       "    <tr>\n",
       "      <th>1</th>\n",
       "      <td>Power/battery</td>\n",
       "      <td>35%</td>\n",
       "      <td>43%</td>\n",
       "      <td>21%</td>\n",
       "      <td>1%</td>\n",
       "      <td>316</td>\n",
       "      <td>12.50%</td>\n",
       "      <td>1</td>\n",
       "      <td>26</td>\n",
       "      <td>2023</td>\n",
       "      <td>NaN</td>\n",
       "      <td>NaN</td>\n",
       "    </tr>\n",
       "    <tr>\n",
       "      <th>2</th>\n",
       "      <td>Configuration</td>\n",
       "      <td>66%</td>\n",
       "      <td>25%</td>\n",
       "      <td>5%</td>\n",
       "      <td>4%</td>\n",
       "      <td>295</td>\n",
       "      <td>11.70%</td>\n",
       "      <td>2</td>\n",
       "      <td>72</td>\n",
       "      <td>2022</td>\n",
       "      <td>NaN</td>\n",
       "      <td>NaN</td>\n",
       "    </tr>\n",
       "    <tr>\n",
       "      <th>3</th>\n",
       "      <td>Integrated screen</td>\n",
       "      <td>31%</td>\n",
       "      <td>53%</td>\n",
       "      <td>12%</td>\n",
       "      <td>5%</td>\n",
       "      <td>257</td>\n",
       "      <td>10.20%</td>\n",
       "      <td>3</td>\n",
       "      <td>68</td>\n",
       "      <td>2024</td>\n",
       "      <td>NaN</td>\n",
       "      <td>NaN</td>\n",
       "    </tr>\n",
       "    <tr>\n",
       "      <th>4</th>\n",
       "      <td>Internal storage</td>\n",
       "      <td>65%</td>\n",
       "      <td>24%</td>\n",
       "      <td>8%</td>\n",
       "      <td>3%</td>\n",
       "      <td>184</td>\n",
       "      <td>7.30%</td>\n",
       "      <td>4</td>\n",
       "      <td>103</td>\n",
       "      <td>2023</td>\n",
       "      <td>NaN</td>\n",
       "      <td>NaN</td>\n",
       "    </tr>\n",
       "  </tbody>\n",
       "</table>\n",
       "</div>"
      ],
      "text/plain": [
       "          Fault type Fixed Repairable End of life Unknown  Repair attempts  \\\n",
       "0        Performance   66%        28%          5%      2%              398   \n",
       "1      Power/battery   35%        43%         21%      1%              316   \n",
       "2      Configuration   66%        25%          5%      4%              295   \n",
       "3  Integrated screen   31%        53%         12%      5%              257   \n",
       "4   Internal storage   65%        24%          8%      3%              184   \n",
       "\n",
       "  value_counts  Product Age  Count  event_year  Unnamed: 10  Unnamed: 11  \n",
       "0       15.70%            0     15        2024          NaN          NaN  \n",
       "1       12.50%            1     26        2023          NaN          NaN  \n",
       "2       11.70%            2     72        2022          NaN          NaN  \n",
       "3       10.20%            3     68        2024          NaN          NaN  \n",
       "4        7.30%            4    103        2023          NaN          NaN  "
      ]
     },
     "execution_count": 49,
     "metadata": {},
     "output_type": "execute_result"
    }
   ],
   "source": [
    "laptops.head()"
   ]
  },
  {
   "cell_type": "markdown",
   "id": "4b052126",
   "metadata": {},
   "source": [
    "\n",
    "\n",
    "Display the data types of the `laptops` DataFrame columns."
   ]
  },
  {
   "cell_type": "code",
   "execution_count": 50,
   "id": "f7776dbf",
   "metadata": {},
   "outputs": [
    {
     "data": {
      "text/plain": [
       "Fault type          object\n",
       "Fixed               object\n",
       "Repairable          object\n",
       "End of life         object\n",
       "Unknown             object\n",
       "Repair attempts      int64\n",
       "value_counts        object\n",
       "Product Age          int64\n",
       "Count                int64\n",
       "event_year           int64\n",
       "Unnamed: 10        float64\n",
       "Unnamed: 11        float64\n",
       "dtype: object"
      ]
     },
     "execution_count": 50,
     "metadata": {},
     "output_type": "execute_result"
    }
   ],
   "source": [
    "laptops.dtypes"
   ]
  },
  {
   "cell_type": "markdown",
   "id": "c4ff5f80",
   "metadata": {},
   "source": [
    "\n",
    "\n",
    "Ages of laptops being brought in for repair."
   ]
  },
  {
   "cell_type": "code",
   "execution_count": 51,
   "id": "e59918db",
   "metadata": {},
   "outputs": [
    {
     "data": {
      "text/plain": [
       "count    19.000000\n",
       "mean      9.105263\n",
       "std       5.801290\n",
       "min       0.000000\n",
       "25%       4.500000\n",
       "50%       9.000000\n",
       "75%      13.500000\n",
       "max      19.000000\n",
       "Name: Product Age, dtype: float64"
      ]
     },
     "execution_count": 51,
     "metadata": {},
     "output_type": "execute_result"
    }
   ],
   "source": [
    "laptops['Product Age'].describe()"
   ]
  },
  {
   "cell_type": "markdown",
   "id": "158edf4f",
   "metadata": {},
   "source": [
    "\n",
    "\n",
    "Determine the earliest and latest years in the dataset."
   ]
  },
  {
   "cell_type": "code",
   "execution_count": 52,
   "id": "a2cbbcf5",
   "metadata": {},
   "outputs": [
    {
     "data": {
      "text/plain": [
       "count      19.000000\n",
       "mean     2022.894737\n",
       "std         0.936586\n",
       "min      2021.000000\n",
       "25%      2022.000000\n",
       "50%      2023.000000\n",
       "75%      2024.000000\n",
       "max      2024.000000\n",
       "Name: event_year, dtype: float64"
      ]
     },
     "execution_count": 52,
     "metadata": {},
     "output_type": "execute_result"
    }
   ],
   "source": [
    "laptops['event_year'].describe()"
   ]
  },
  {
   "cell_type": "markdown",
   "id": "bd448462",
   "metadata": {},
   "source": [
    "\n",
    "Output the number of laptops in the data for each `event_year`. "
   ]
  },
  {
   "cell_type": "code",
   "execution_count": 53,
   "id": "24cfae5d",
   "metadata": {},
   "outputs": [
    {
     "data": {
      "text/plain": [
       "event_year\n",
       "2024    6\n",
       "2023    6\n",
       "2022    6\n",
       "2021    1\n",
       "Name: count, dtype: int64"
      ]
     },
     "execution_count": 53,
     "metadata": {},
     "output_type": "execute_result"
    }
   ],
   "source": [
    "laptops['event_year'].value_counts()"
   ]
  },
  {
   "cell_type": "markdown",
   "id": "d912e305",
   "metadata": {},
   "source": [
    "\n",
    "\n",
    "Display the most common problems in the dataset. "
   ]
  },
  {
   "cell_type": "code",
   "execution_count": 54,
   "id": "3e7f33df",
   "metadata": {},
   "outputs": [
    {
     "data": {
      "text/plain": [
       "Fault type\n",
       "Performance                   1\n",
       "Case/chassis                  1\n",
       "Multiple                      1\n",
       "Integrated optical drive      1\n",
       "Integrated pointing device    1\n",
       "Integrated media component    1\n",
       "Virus/malware                 1\n",
       "Internal damage               1\n",
       "System board                  1\n",
       "Integrated keyboard           1\n",
       "Power/battery                 1\n",
       "Overheating                   1\n",
       "Ports/slots/connectors        1\n",
       "Boot                          1\n",
       "Operating system              1\n",
       "Internal storage              1\n",
       "Integrated screen             1\n",
       "Configuration                 1\n",
       "Other                         1\n",
       "Name: count, dtype: int64"
      ]
     },
     "execution_count": 54,
     "metadata": {},
     "output_type": "execute_result"
    }
   ],
   "source": [
    "laptops['Fault type'].value_counts()"
   ]
  },
  {
   "cell_type": "markdown",
   "id": "2091a041",
   "metadata": {},
   "source": [
    "\n",
    "Output percentages instead of counts."
   ]
  },
  {
   "cell_type": "code",
   "execution_count": 55,
   "id": "0b71ad48",
   "metadata": {},
   "outputs": [
    {
     "data": {
      "text/plain": [
       "Fault type\n",
       "Performance                   5.263158\n",
       "Case/chassis                  5.263158\n",
       "Multiple                      5.263158\n",
       "Integrated optical drive      5.263158\n",
       "Integrated pointing device    5.263158\n",
       "Integrated media component    5.263158\n",
       "Virus/malware                 5.263158\n",
       "Internal damage               5.263158\n",
       "System board                  5.263158\n",
       "Integrated keyboard           5.263158\n",
       "Power/battery                 5.263158\n",
       "Overheating                   5.263158\n",
       "Ports/slots/connectors        5.263158\n",
       "Boot                          5.263158\n",
       "Operating system              5.263158\n",
       "Internal storage              5.263158\n",
       "Integrated screen             5.263158\n",
       "Configuration                 5.263158\n",
       "Other                         5.263158\n",
       "Name: proportion, dtype: float64"
      ]
     },
     "execution_count": 55,
     "metadata": {},
     "output_type": "execute_result"
    }
   ],
   "source": [
    "laptops['Fault type'].value_counts(normalize=True) * 100"
   ]
  },
  {
   "cell_type": "markdown",
   "id": "be19532e",
   "metadata": {},
   "source": [
    "\n",
    "\n",
    "Count the number of laptops in each category of `repair_status`."
   ]
  },
  {
   "cell_type": "code",
   "execution_count": 56,
   "id": "f476553d",
   "metadata": {},
   "outputs": [
    {
     "data": {
      "text/plain": [
       "Fixed\n",
       "48%    3\n",
       "66%    2\n",
       "70%    2\n",
       "52%    2\n",
       "35%    1\n",
       "31%    1\n",
       "65%    1\n",
       "59%    1\n",
       "37%    1\n",
       "49%    1\n",
       "32%    1\n",
       "29%    1\n",
       "61%    1\n",
       "75%    1\n",
       "Name: count, dtype: int64"
      ]
     },
     "execution_count": 56,
     "metadata": {},
     "output_type": "execute_result"
    }
   ],
   "source": [
    "laptops['Fixed'].value_counts()"
   ]
  },
  {
   "cell_type": "code",
   "execution_count": null,
   "id": "667bc72c",
   "metadata": {},
   "outputs": [],
   "source": []
  },
  {
   "cell_type": "code",
   "execution_count": null,
   "id": "341f8551",
   "metadata": {},
   "outputs": [],
   "source": []
  }
 ],
 "metadata": {
  "kernelspec": {
   "display_name": "Python 3 (ipykernel)",
   "language": "python",
   "name": "python3"
  },
  "language_info": {
   "codemirror_mode": {
    "name": "ipython",
    "version": 3
   },
   "file_extension": ".py",
   "mimetype": "text/x-python",
   "name": "python",
   "nbconvert_exporter": "python",
   "pygments_lexer": "ipython3",
   "version": "3.8.10"
  }
 },
 "nbformat": 4,
 "nbformat_minor": 5
}
