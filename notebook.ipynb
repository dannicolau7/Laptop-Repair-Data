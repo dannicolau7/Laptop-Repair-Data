{
 "cells": [
  {
   "cell_type": "markdown",
   "id": "94764601",
   "metadata": {},
   "source": [
    "# Explore Laptop Repair Data\n",
    "\n",
    "- [View Solution Notebook](./solution.html)\n",
    "- [View Project Page](https://www.codecademy.com/projects/practice/explore-laptop-repair-data-with-python)"
   ]
  },
  {
   "cell_type": "markdown",
   "id": "6496f2aa",
   "metadata": {},
   "source": [
    "## Task Group 1 -  Import and Inspect"
   ]
  },
  {
   "cell_type": "markdown",
   "id": "bbd065f3",
   "metadata": {},
   "source": [
    "### Task 1 \n",
    "\n",
    "Import `pandas` using the alias `pd`."
   ]
  },
  {
   "cell_type": "code",
   "execution_count": 1,
   "id": "76c32d05",
   "metadata": {},
   "outputs": [],
   "source": [
    "import pandas as pd"
   ]
  },
  {
   "cell_type": "markdown",
   "id": "827c9e00",
   "metadata": {},
   "source": [
    "### Task 2\n",
    "\n",
    "Import the dataset in `laptops.csv` and assign to the variable `laptops`."
   ]
  },
  {
   "cell_type": "code",
   "execution_count": 2,
   "id": "bd3358ce",
   "metadata": {},
   "outputs": [],
   "source": [
    "laptops = pd.read_csv('laptops.csv')"
   ]
  },
  {
   "cell_type": "markdown",
   "id": "dbe1e6d5",
   "metadata": {},
   "source": [
    "### Task 3\n",
    "\n",
    "Display the first five lines of the `laptops` DataFrame."
   ]
  },
  {
   "cell_type": "code",
   "execution_count": 3,
   "id": "fdf2a3db",
   "metadata": {},
   "outputs": [
    {
     "data": {
      "text/html": [
       "<div>\n",
       "<style scoped>\n",
       "    .dataframe tbody tr th:only-of-type {\n",
       "        vertical-align: middle;\n",
       "    }\n",
       "\n",
       "    .dataframe tbody tr th {\n",
       "        vertical-align: top;\n",
       "    }\n",
       "\n",
       "    .dataframe thead th {\n",
       "        text-align: right;\n",
       "    }\n",
       "</style>\n",
       "<table border=\"1\" class=\"dataframe\">\n",
       "  <thead>\n",
       "    <tr style=\"text-align: right;\">\n",
       "      <th></th>\n",
       "      <th>Fault type</th>\n",
       "      <th>Fixed</th>\n",
       "      <th>Repairable</th>\n",
       "      <th>End of life</th>\n",
       "      <th>Unknown</th>\n",
       "      <th>Repair attempts</th>\n",
       "      <th>% of total</th>\n",
       "      <th>Product Age</th>\n",
       "      <th>Count</th>\n",
       "    </tr>\n",
       "  </thead>\n",
       "  <tbody>\n",
       "    <tr>\n",
       "      <th>0</th>\n",
       "      <td>Performance</td>\n",
       "      <td>66%</td>\n",
       "      <td>28%</td>\n",
       "      <td>5%</td>\n",
       "      <td>2%</td>\n",
       "      <td>398</td>\n",
       "      <td>15.70%</td>\n",
       "      <td>0</td>\n",
       "      <td>15</td>\n",
       "    </tr>\n",
       "    <tr>\n",
       "      <th>1</th>\n",
       "      <td>Power/battery</td>\n",
       "      <td>35%</td>\n",
       "      <td>43%</td>\n",
       "      <td>21%</td>\n",
       "      <td>1%</td>\n",
       "      <td>316</td>\n",
       "      <td>12.50%</td>\n",
       "      <td>1</td>\n",
       "      <td>26</td>\n",
       "    </tr>\n",
       "    <tr>\n",
       "      <th>2</th>\n",
       "      <td>Configuration</td>\n",
       "      <td>66%</td>\n",
       "      <td>25%</td>\n",
       "      <td>5%</td>\n",
       "      <td>4%</td>\n",
       "      <td>295</td>\n",
       "      <td>11.70%</td>\n",
       "      <td>2</td>\n",
       "      <td>72</td>\n",
       "    </tr>\n",
       "    <tr>\n",
       "      <th>3</th>\n",
       "      <td>Integrated screen</td>\n",
       "      <td>31%</td>\n",
       "      <td>53%</td>\n",
       "      <td>12%</td>\n",
       "      <td>5%</td>\n",
       "      <td>257</td>\n",
       "      <td>10.20%</td>\n",
       "      <td>3</td>\n",
       "      <td>68</td>\n",
       "    </tr>\n",
       "    <tr>\n",
       "      <th>4</th>\n",
       "      <td>Internal storage</td>\n",
       "      <td>65%</td>\n",
       "      <td>24%</td>\n",
       "      <td>8%</td>\n",
       "      <td>3%</td>\n",
       "      <td>184</td>\n",
       "      <td>7.30%</td>\n",
       "      <td>4</td>\n",
       "      <td>103</td>\n",
       "    </tr>\n",
       "  </tbody>\n",
       "</table>\n",
       "</div>"
      ],
      "text/plain": [
       "          Fault type Fixed Repairable End of life Unknown  Repair attempts  \\\n",
       "0        Performance   66%        28%          5%      2%              398   \n",
       "1      Power/battery   35%        43%         21%      1%              316   \n",
       "2      Configuration   66%        25%          5%      4%              295   \n",
       "3  Integrated screen   31%        53%         12%      5%              257   \n",
       "4   Internal storage   65%        24%          8%      3%              184   \n",
       "\n",
       "  % of total  Product Age  Count  \n",
       "0     15.70%            0     15  \n",
       "1     12.50%            1     26  \n",
       "2     11.70%            2     72  \n",
       "3     10.20%            3     68  \n",
       "4      7.30%            4    103  "
      ]
     },
     "execution_count": 3,
     "metadata": {},
     "output_type": "execute_result"
    }
   ],
   "source": [
    "laptops.head()"
   ]
  },
  {
   "cell_type": "markdown",
   "id": "4b052126",
   "metadata": {},
   "source": [
    "### Task 4\n",
    "\n",
    "Display the data types of the `laptops` DataFrame columns."
   ]
  },
  {
   "cell_type": "code",
   "execution_count": 4,
   "id": "f7776dbf",
   "metadata": {},
   "outputs": [
    {
     "data": {
      "text/plain": [
       "Fault type         object\n",
       "Fixed              object\n",
       "Repairable         object\n",
       "End of life        object\n",
       "Unknown            object\n",
       "Repair attempts     int64\n",
       "% of total         object\n",
       "Product Age         int64\n",
       "Count               int64\n",
       "dtype: object"
      ]
     },
     "execution_count": 4,
     "metadata": {},
     "output_type": "execute_result"
    }
   ],
   "source": [
    "laptops.dtypes"
   ]
  },
  {
   "cell_type": "markdown",
   "id": "f7d38e10",
   "metadata": {},
   "source": [
    "## Task Group 2 -  Explore Numeric Columns"
   ]
  },
  {
   "cell_type": "markdown",
   "id": "c4ff5f80",
   "metadata": {},
   "source": [
    "### Task 5\n",
    "\n",
    "Let's take a look at the ages of laptops being brought in for repair. Use a series method to display the minimum, maximum, and other summary statistics for the `age` column. Do you notice anything interesting?"
   ]
  },
  {
   "cell_type": "code",
   "execution_count": 6,
   "id": "e59918db",
   "metadata": {},
   "outputs": [
    {
     "data": {
      "text/plain": [
       "count    19.000000\n",
       "mean      9.105263\n",
       "std       5.801290\n",
       "min       0.000000\n",
       "25%       4.500000\n",
       "50%       9.000000\n",
       "75%      13.500000\n",
       "max      19.000000\n",
       "Name: Product Age, dtype: float64"
      ]
     },
     "execution_count": 6,
     "metadata": {},
     "output_type": "execute_result"
    }
   ],
   "source": [
    "laptops['Product Age'].describe()"
   ]
  },
  {
   "cell_type": "markdown",
   "id": "158edf4f",
   "metadata": {},
   "source": [
    "### Task 6\n",
    "\n",
    "The other numeric column is `event_year`. Use a pandas method to determine the earliest and latest years in the dataset."
   ]
  },
  {
   "cell_type": "code",
   "execution_count": 6,
   "id": "a2cbbcf5",
   "metadata": {},
   "outputs": [
    {
     "data": {
      "text/plain": [
       "count    3511.000000\n",
       "mean     2017.583594\n",
       "std         1.691374\n",
       "min      2012.000000\n",
       "25%      2017.000000\n",
       "50%      2018.000000\n",
       "75%      2019.000000\n",
       "max      2020.000000\n",
       "Name: event_year, dtype: float64"
      ]
     },
     "execution_count": 6,
     "metadata": {},
     "output_type": "execute_result"
    }
   ],
   "source": [
    "laptops['event_year'].describe()"
   ]
  },
  {
   "cell_type": "markdown",
   "id": "b9aa6ee1",
   "metadata": {},
   "source": [
    "## Task Group 3 - Explore Categorical Columns"
   ]
  },
  {
   "cell_type": "markdown",
   "id": "bd448462",
   "metadata": {},
   "source": [
    "### Task 7\n",
    "\n",
    "Let's also take a look at `event_year` as a categorical column. Use a series method to output the number of laptops in the data for each `event_year`. What do you notice?"
   ]
  },
  {
   "cell_type": "code",
   "execution_count": 7,
   "id": "24cfae5d",
   "metadata": {},
   "outputs": [
    {
     "ename": "KeyError",
     "evalue": "'event_year'",
     "output_type": "error",
     "traceback": [
      "\u001b[0;31m---------------------------------------------------------------------------\u001b[0m",
      "\u001b[0;31mKeyError\u001b[0m                                  Traceback (most recent call last)",
      "File \u001b[0;32m/opt/anaconda3/lib/python3.12/site-packages/pandas/core/indexes/base.py:3805\u001b[0m, in \u001b[0;36mIndex.get_loc\u001b[0;34m(self, key)\u001b[0m\n\u001b[1;32m   3804\u001b[0m \u001b[38;5;28;01mtry\u001b[39;00m:\n\u001b[0;32m-> 3805\u001b[0m     \u001b[38;5;28;01mreturn\u001b[39;00m \u001b[38;5;28mself\u001b[39m\u001b[38;5;241m.\u001b[39m_engine\u001b[38;5;241m.\u001b[39mget_loc(casted_key)\n\u001b[1;32m   3806\u001b[0m \u001b[38;5;28;01mexcept\u001b[39;00m \u001b[38;5;167;01mKeyError\u001b[39;00m \u001b[38;5;28;01mas\u001b[39;00m err:\n",
      "File \u001b[0;32mindex.pyx:167\u001b[0m, in \u001b[0;36mpandas._libs.index.IndexEngine.get_loc\u001b[0;34m()\u001b[0m\n",
      "File \u001b[0;32mindex.pyx:196\u001b[0m, in \u001b[0;36mpandas._libs.index.IndexEngine.get_loc\u001b[0;34m()\u001b[0m\n",
      "File \u001b[0;32mpandas/_libs/hashtable_class_helper.pxi:7081\u001b[0m, in \u001b[0;36mpandas._libs.hashtable.PyObjectHashTable.get_item\u001b[0;34m()\u001b[0m\n",
      "File \u001b[0;32mpandas/_libs/hashtable_class_helper.pxi:7089\u001b[0m, in \u001b[0;36mpandas._libs.hashtable.PyObjectHashTable.get_item\u001b[0;34m()\u001b[0m\n",
      "\u001b[0;31mKeyError\u001b[0m: 'event_year'",
      "\nThe above exception was the direct cause of the following exception:\n",
      "\u001b[0;31mKeyError\u001b[0m                                  Traceback (most recent call last)",
      "Cell \u001b[0;32mIn[7], line 1\u001b[0m\n\u001b[0;32m----> 1\u001b[0m laptops[\u001b[38;5;124m'\u001b[39m\u001b[38;5;124mevent_year\u001b[39m\u001b[38;5;124m'\u001b[39m]\u001b[38;5;241m.\u001b[39mvalue_counts()\n",
      "File \u001b[0;32m/opt/anaconda3/lib/python3.12/site-packages/pandas/core/frame.py:4102\u001b[0m, in \u001b[0;36mDataFrame.__getitem__\u001b[0;34m(self, key)\u001b[0m\n\u001b[1;32m   4100\u001b[0m \u001b[38;5;28;01mif\u001b[39;00m \u001b[38;5;28mself\u001b[39m\u001b[38;5;241m.\u001b[39mcolumns\u001b[38;5;241m.\u001b[39mnlevels \u001b[38;5;241m>\u001b[39m \u001b[38;5;241m1\u001b[39m:\n\u001b[1;32m   4101\u001b[0m     \u001b[38;5;28;01mreturn\u001b[39;00m \u001b[38;5;28mself\u001b[39m\u001b[38;5;241m.\u001b[39m_getitem_multilevel(key)\n\u001b[0;32m-> 4102\u001b[0m indexer \u001b[38;5;241m=\u001b[39m \u001b[38;5;28mself\u001b[39m\u001b[38;5;241m.\u001b[39mcolumns\u001b[38;5;241m.\u001b[39mget_loc(key)\n\u001b[1;32m   4103\u001b[0m \u001b[38;5;28;01mif\u001b[39;00m is_integer(indexer):\n\u001b[1;32m   4104\u001b[0m     indexer \u001b[38;5;241m=\u001b[39m [indexer]\n",
      "File \u001b[0;32m/opt/anaconda3/lib/python3.12/site-packages/pandas/core/indexes/base.py:3812\u001b[0m, in \u001b[0;36mIndex.get_loc\u001b[0;34m(self, key)\u001b[0m\n\u001b[1;32m   3807\u001b[0m     \u001b[38;5;28;01mif\u001b[39;00m \u001b[38;5;28misinstance\u001b[39m(casted_key, \u001b[38;5;28mslice\u001b[39m) \u001b[38;5;129;01mor\u001b[39;00m (\n\u001b[1;32m   3808\u001b[0m         \u001b[38;5;28misinstance\u001b[39m(casted_key, abc\u001b[38;5;241m.\u001b[39mIterable)\n\u001b[1;32m   3809\u001b[0m         \u001b[38;5;129;01mand\u001b[39;00m \u001b[38;5;28many\u001b[39m(\u001b[38;5;28misinstance\u001b[39m(x, \u001b[38;5;28mslice\u001b[39m) \u001b[38;5;28;01mfor\u001b[39;00m x \u001b[38;5;129;01min\u001b[39;00m casted_key)\n\u001b[1;32m   3810\u001b[0m     ):\n\u001b[1;32m   3811\u001b[0m         \u001b[38;5;28;01mraise\u001b[39;00m InvalidIndexError(key)\n\u001b[0;32m-> 3812\u001b[0m     \u001b[38;5;28;01mraise\u001b[39;00m \u001b[38;5;167;01mKeyError\u001b[39;00m(key) \u001b[38;5;28;01mfrom\u001b[39;00m \u001b[38;5;21;01merr\u001b[39;00m\n\u001b[1;32m   3813\u001b[0m \u001b[38;5;28;01mexcept\u001b[39;00m \u001b[38;5;167;01mTypeError\u001b[39;00m:\n\u001b[1;32m   3814\u001b[0m     \u001b[38;5;66;03m# If we have a listlike key, _check_indexing_error will raise\u001b[39;00m\n\u001b[1;32m   3815\u001b[0m     \u001b[38;5;66;03m#  InvalidIndexError. Otherwise we fall through and re-raise\u001b[39;00m\n\u001b[1;32m   3816\u001b[0m     \u001b[38;5;66;03m#  the TypeError.\u001b[39;00m\n\u001b[1;32m   3817\u001b[0m     \u001b[38;5;28mself\u001b[39m\u001b[38;5;241m.\u001b[39m_check_indexing_error(key)\n",
      "\u001b[0;31mKeyError\u001b[0m: 'event_year'"
     ]
    }
   ],
   "source": [
    "laptops['event_year'].value_counts()"
   ]
  },
  {
   "cell_type": "markdown",
   "id": "d912e305",
   "metadata": {},
   "source": [
    "### Task 8\n",
    "\n",
    "Now, let's focus on the problems causing people to bring in laptops for repair. Use a series method to display the most common problems in the dataset. What do you notice?"
   ]
  },
  {
   "cell_type": "code",
   "execution_count": 8,
   "id": "3e7f33df",
   "metadata": {},
   "outputs": [
    {
     "data": {
      "text/plain": [
       "unknown                       980\n",
       "performance                   398\n",
       "power/battery                 316\n",
       "configuration                 295\n",
       "integrated screen             257\n",
       "internal storage              184\n",
       "operating system              177\n",
       "boot                          171\n",
       "ports/slots/connectors        127\n",
       "overheating                   107\n",
       "integrated keyboard           106\n",
       "case/chassis                   75\n",
       "system board                   72\n",
       "internal damage                59\n",
       "virus/malware                  57\n",
       "other                          32\n",
       "integrated media component     27\n",
       "integrated pointing device     25\n",
       "multiple                       23\n",
       "integrated optical drive       23\n",
       "Name: problem, dtype: int64"
      ]
     },
     "execution_count": 8,
     "metadata": {},
     "output_type": "execute_result"
    }
   ],
   "source": [
    "laptops['problem'].value_counts()"
   ]
  },
  {
   "cell_type": "markdown",
   "id": "2091a041",
   "metadata": {},
   "source": [
    "### Task 9\n",
    "\n",
    "Power and battery issues are pretty common, but what percentage of the data do they represent? Modify the method from the previous task to output percentages instead of counts."
   ]
  },
  {
   "cell_type": "code",
   "execution_count": 9,
   "id": "0b71ad48",
   "metadata": {},
   "outputs": [
    {
     "data": {
      "text/plain": [
       "unknown                       27.912276\n",
       "performance                   11.335802\n",
       "power/battery                  9.000285\n",
       "configuration                  8.402165\n",
       "integrated screen              7.319852\n",
       "internal storage               5.240672\n",
       "operating system               5.041299\n",
       "boot                           4.870407\n",
       "ports/slots/connectors         3.617203\n",
       "overheating                    3.047565\n",
       "integrated keyboard            3.019083\n",
       "case/chassis                   2.136144\n",
       "system board                   2.050698\n",
       "internal damage                1.680433\n",
       "virus/malware                  1.623469\n",
       "other                          0.911421\n",
       "integrated media component     0.769012\n",
       "integrated pointing device     0.712048\n",
       "multiple                       0.655084\n",
       "integrated optical drive       0.655084\n",
       "Name: problem, dtype: float64"
      ]
     },
     "execution_count": 9,
     "metadata": {},
     "output_type": "execute_result"
    }
   ],
   "source": [
    "laptops['problem'].value_counts(normalize=True) * 100"
   ]
  },
  {
   "cell_type": "markdown",
   "id": "be19532e",
   "metadata": {},
   "source": [
    "### Task 10\n",
    "\n",
    "Lastly, let's look at how often laptops brought into these events are recorded as fixed. Use a pandas method to count the number of laptops in each category of `repair_status`."
   ]
  },
  {
   "cell_type": "code",
   "execution_count": 10,
   "id": "f476553d",
   "metadata": {},
   "outputs": [
    {
     "data": {
      "text/plain": [
       "fixed          1835\n",
       "repairable     1146\n",
       "end of life     423\n",
       "unknown         107\n",
       "Name: repair_status, dtype: int64"
      ]
     },
     "execution_count": 10,
     "metadata": {},
     "output_type": "execute_result"
    }
   ],
   "source": [
    "laptops['repair_status'].value_counts()"
   ]
  },
  {
   "cell_type": "code",
   "execution_count": null,
   "id": "667bc72c",
   "metadata": {},
   "outputs": [],
   "source": []
  },
  {
   "cell_type": "code",
   "execution_count": null,
   "id": "341f8551",
   "metadata": {},
   "outputs": [],
   "source": []
  }
 ],
 "metadata": {
  "kernelspec": {
   "display_name": "base",
   "language": "python",
   "name": "python3"
  },
  "language_info": {
   "codemirror_mode": {
    "name": "ipython",
    "version": 3
   },
   "file_extension": ".py",
   "mimetype": "text/x-python",
   "name": "python",
   "nbconvert_exporter": "python",
   "pygments_lexer": "ipython3",
   "version": "3.12.7"
  }
 },
 "nbformat": 4,
 "nbformat_minor": 5
}
